{
 "cells": [
  {
   "cell_type": "markdown",
   "metadata": {},
   "source": [
    "######### Objective ############\n",
    "We have 2 fields, our objective is to compare the yield between on different samples. (Using T value method)\n",
    "t - value = (Signal/Noise) = (Difference between the means/variability of group)\n",
    "\n",
    "Formula = |X1-X2|/Sqrt((S1^2/n1)+(S2^2/n2))\n",
    "\n",
    "### T test is applied when\n",
    "\n",
    "1) population Standard deviation is not available\n",
    "2) n is less than 30\n"
   ]
  },
  {
   "cell_type": "code",
   "execution_count": 19,
   "metadata": {},
   "outputs": [],
   "source": [
    "import pandas as pd\n",
    "import numpy as np\n",
    "import math"
   ]
  },
  {
   "cell_type": "code",
   "execution_count": 4,
   "metadata": {},
   "outputs": [
    {
     "data": {
      "text/html": [
       "<div>\n",
       "<style scoped>\n",
       "    .dataframe tbody tr th:only-of-type {\n",
       "        vertical-align: middle;\n",
       "    }\n",
       "\n",
       "    .dataframe tbody tr th {\n",
       "        vertical-align: top;\n",
       "    }\n",
       "\n",
       "    .dataframe thead th {\n",
       "        text-align: right;\n",
       "    }\n",
       "</style>\n",
       "<table border=\"1\" class=\"dataframe\">\n",
       "  <thead>\n",
       "    <tr style=\"text-align: right;\">\n",
       "      <th></th>\n",
       "      <th>Field_1</th>\n",
       "      <th>Field_2</th>\n",
       "    </tr>\n",
       "  </thead>\n",
       "  <tbody>\n",
       "    <tr>\n",
       "      <th>0</th>\n",
       "      <td>15.2</td>\n",
       "      <td>15.9</td>\n",
       "    </tr>\n",
       "    <tr>\n",
       "      <th>1</th>\n",
       "      <td>15.3</td>\n",
       "      <td>15.9</td>\n",
       "    </tr>\n",
       "    <tr>\n",
       "      <th>2</th>\n",
       "      <td>16.0</td>\n",
       "      <td>15.2</td>\n",
       "    </tr>\n",
       "    <tr>\n",
       "      <th>3</th>\n",
       "      <td>15.8</td>\n",
       "      <td>16.6</td>\n",
       "    </tr>\n",
       "    <tr>\n",
       "      <th>4</th>\n",
       "      <td>15.6</td>\n",
       "      <td>15.2</td>\n",
       "    </tr>\n",
       "    <tr>\n",
       "      <th>5</th>\n",
       "      <td>14.9</td>\n",
       "      <td>15.8</td>\n",
       "    </tr>\n",
       "    <tr>\n",
       "      <th>6</th>\n",
       "      <td>15.0</td>\n",
       "      <td>15.8</td>\n",
       "    </tr>\n",
       "    <tr>\n",
       "      <th>7</th>\n",
       "      <td>15.4</td>\n",
       "      <td>16.2</td>\n",
       "    </tr>\n",
       "    <tr>\n",
       "      <th>8</th>\n",
       "      <td>15.6</td>\n",
       "      <td>15.6</td>\n",
       "    </tr>\n",
       "    <tr>\n",
       "      <th>9</th>\n",
       "      <td>15.7</td>\n",
       "      <td>15.6</td>\n",
       "    </tr>\n",
       "    <tr>\n",
       "      <th>10</th>\n",
       "      <td>15.5</td>\n",
       "      <td>15.8</td>\n",
       "    </tr>\n",
       "    <tr>\n",
       "      <th>11</th>\n",
       "      <td>15.2</td>\n",
       "      <td>15.5</td>\n",
       "    </tr>\n",
       "    <tr>\n",
       "      <th>12</th>\n",
       "      <td>15.5</td>\n",
       "      <td>15.5</td>\n",
       "    </tr>\n",
       "    <tr>\n",
       "      <th>13</th>\n",
       "      <td>15.1</td>\n",
       "      <td>15.5</td>\n",
       "    </tr>\n",
       "    <tr>\n",
       "      <th>14</th>\n",
       "      <td>15.3</td>\n",
       "      <td>14.9</td>\n",
       "    </tr>\n",
       "    <tr>\n",
       "      <th>15</th>\n",
       "      <td>15.0</td>\n",
       "      <td>15.9</td>\n",
       "    </tr>\n",
       "  </tbody>\n",
       "</table>\n",
       "</div>"
      ],
      "text/plain": [
       "    Field_1  Field_2\n",
       "0      15.2     15.9\n",
       "1      15.3     15.9\n",
       "2      16.0     15.2\n",
       "3      15.8     16.6\n",
       "4      15.6     15.2\n",
       "5      14.9     15.8\n",
       "6      15.0     15.8\n",
       "7      15.4     16.2\n",
       "8      15.6     15.6\n",
       "9      15.7     15.6\n",
       "10     15.5     15.8\n",
       "11     15.2     15.5\n",
       "12     15.5     15.5\n",
       "13     15.1     15.5\n",
       "14     15.3     14.9\n",
       "15     15.0     15.9"
      ]
     },
     "execution_count": 4,
     "metadata": {},
     "output_type": "execute_result"
    }
   ],
   "source": [
    "## importing Data Set. -- Each data point is a yield from field (different samples).\n",
    "df=pd.read_excel(\"Field.xlsx\")\n",
    "df"
   ]
  },
  {
   "cell_type": "code",
   "execution_count": 9,
   "metadata": {},
   "outputs": [
    {
     "name": "stdout",
     "output_type": "stream",
     "text": [
      " Mean value of field 1 is 15.38125 \n",
      " Mean value of field 2 is 15.68125 \n"
     ]
    }
   ],
   "source": [
    "F1_mean = np.mean(df.Field_1)\n",
    "F2_mean = np.mean(df.Field_2)\n",
    "\n",
    "print(\" Mean value of field 1 is {0} \\n Mean value of field 2 is {1} \".format(F1_mean,F2_mean))\n"
   ]
  },
  {
   "cell_type": "code",
   "execution_count": 12,
   "metadata": {},
   "outputs": [
    {
     "name": "stdout",
     "output_type": "stream",
     "text": [
      " Standerd deviation of field 1 is 0.3025284077570237 \n",
      " Standerd deviation of field 2 is 0.39404750665370314 \n"
     ]
    }
   ],
   "source": [
    "F1_std = np.std(df.Field_1)\n",
    "F2_std = np.std(df.Field_2)\n",
    "\n",
    "print(\" Standerd deviation of field 1 is {0} \\n Standerd deviation of field 2 is {1} \".format(F1_std,F2_std))\n"
   ]
  },
  {
   "cell_type": "code",
   "execution_count": 15,
   "metadata": {},
   "outputs": [
    {
     "name": "stdout",
     "output_type": "stream",
     "text": [
      " Variance of field 1 is 0.09152343750000001 \n",
      " Variance of field 2 is 0.15527343750000022 \n"
     ]
    }
   ],
   "source": [
    "F1_var = F1_std*F1_std\n",
    "F2_var = F2_std*F2_std\n",
    "print(\" Variance of field 1 is {0} \\n Variance of field 2 is {1} \".format(F1_var,F2_var))"
   ]
  },
  {
   "cell_type": "code",
   "execution_count": 17,
   "metadata": {},
   "outputs": [],
   "source": [
    "n1=len(df.Field_1)\n",
    "n2=len(df.Field_2)"
   ]
  },
  {
   "cell_type": "code",
   "execution_count": 21,
   "metadata": {},
   "outputs": [
    {
     "name": "stdout",
     "output_type": "stream",
     "text": [
      "T - value is  2.4155243395084756\n"
     ]
    }
   ],
   "source": [
    "## Final Calculation\n",
    "\n",
    "t_value = abs(F1_mean-F2_mean)/math.sqrt((F1_var/n1)+(F2_var/n2))\n",
    "print(\"T - value is \",t_value)\n",
    "\n"
   ]
  },
  {
   "cell_type": "markdown",
   "metadata": {},
   "source": [
    "H0 (Null hypothesis) - No Statistical difference between the samples.\n",
    "H1 (Alternate Hypothesis) - Exists a statistical difference betwen the samples.\n",
    "\n",
    "If our t-value is less than critical -- fail to reject the null hypothesis.\n",
    "If our t-value is more than critical-- reject the null hypothesis.\n",
    "\n",
    "## finding the critical value\n",
    "1) refer table for Df at rows and columns as significance (P value)\n",
    "\n",
    "in our case we have 32 data points, 2 variable. So df is 32-2=30.\n",
    "Mostly used/ tested signifcance is .05. our case is two tailed and critical value is 2.04.\n",
    "Calculated T value is 2.4 which is higher and reject hypothesis.\n",
    "\n",
    "Conclusion\n",
    "\"There exists a statistic difference\"\n"
   ]
  }
 ],
 "metadata": {
  "kernelspec": {
   "display_name": "Python 3",
   "language": "python",
   "name": "python3"
  },
  "language_info": {
   "codemirror_mode": {
    "name": "ipython",
    "version": 3
   },
   "file_extension": ".py",
   "mimetype": "text/x-python",
   "name": "python",
   "nbconvert_exporter": "python",
   "pygments_lexer": "ipython3",
   "version": "3.6.4"
  }
 },
 "nbformat": 4,
 "nbformat_minor": 2
}
